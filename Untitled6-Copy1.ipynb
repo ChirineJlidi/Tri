{
 "cells": [
  {
   "cell_type": "markdown",
   "metadata": {},
   "source": [
    "## creation de tableau de N entier random"
   ]
  },
  {
   "cell_type": "code",
   "execution_count": 2,
   "metadata": {},
   "outputs": [],
   "source": [
    "import random\n",
    "import numpy as np\n",
    "def creat_tab(N):\n",
    "    tab = np.random.randint(100, size=(N))\n",
    "    return tab "
   ]
  },
  {
   "cell_type": "markdown",
   "metadata": {},
   "source": [
    "## trie par selection"
   ]
  },
  {
   "cell_type": "code",
   "execution_count": 3,
   "metadata": {},
   "outputs": [],
   "source": [
    "def tri_selection(tab):\n",
    "\n",
    "   for i in range(len(tab)):\n",
    "\n",
    "      # Trouver le min\n",
    "       min = i\n",
    "\n",
    "       for j in range(i+1, len(tab)):\n",
    "           if tab[min] > tab[j]:\n",
    "               min = j\n",
    "                \n",
    "       tmp = tab[i]\n",
    "       tab[i] = tab[min]\n",
    "       tab[min] = tmp\n",
    "\n",
    "   return tab"
   ]
  },
  {
   "cell_type": "markdown",
   "metadata": {},
   "source": [
    "## Tri par insertion"
   ]
  },
  {
   "cell_type": "code",
   "execution_count": 4,
   "metadata": {},
   "outputs": [],
   "source": [
    "def tri_insertion(tab): \n",
    "    # Parcour de 1 à la taille du tab\n",
    "    for i in range(1, len(tab)): \n",
    "        k = tab[i] \n",
    "        j = i-1\n",
    "        while j >= 0 and k < tab[j] : \n",
    "                tab[j + 1] = tab[j] \n",
    "                j -= 1\n",
    "        tab[j + 1] = k"
   ]
  },
  {
   "cell_type": "markdown",
   "metadata": {},
   "source": [
    "## Tri à bulle"
   ]
  },
  {
   "cell_type": "code",
   "execution_count": 5,
   "metadata": {},
   "outputs": [],
   "source": [
    "def tri_bulle(tab):\n",
    "    n = len(tab)\n",
    "    # Traverser tous les éléments du tableau\n",
    "    for i in range(n):\n",
    "        for j in range(0, n-i-1):\n",
    "            # échanger si l'élément trouvé est plus grand que le suivant\n",
    "            if tab[j] > tab[j+1] :\n",
    "                tab[j], tab[j+1] = tab[j+1], tab[j]"
   ]
  },
  {
   "cell_type": "markdown",
   "metadata": {},
   "source": [
    "## tri par fusion"
   ]
  },
  {
   "cell_type": "code",
   "execution_count": 6,
   "metadata": {},
   "outputs": [],
   "source": [
    "def trifusion(L):\n",
    "    n = len(L)\n",
    "    if n > 1:\n",
    "        p = int(n/2)\n",
    "        L1 = L[0:p]\n",
    "        L2 = L[p:n]\n",
    "        trifusion(L1)\n",
    "        trifusion(L2)\n",
    "        L[:] = fusion(L1,L2)\n",
    "    \n",
    "def tri_fusion(L):\n",
    "    M = list(L)\n",
    "    tri_fusion_recursif(M)\n",
    "    return M\n",
    "\n",
    "def fusion(L1,L2):\n",
    "    n1 = len(L1)\n",
    "    n2 = len(L2)\n",
    "    L12 = [0]*(n1+n2)\n",
    "    i1 = 0\n",
    "    i2 = 0\n",
    "    i = 0\n",
    "    while i1<n1 and i2<n2:\n",
    "        if L1[i1] < L2[i2]:\n",
    "            L12[i] = L1[i1]\n",
    "            i1 += 1\n",
    "        else:\n",
    "            L12[i] = L2[i2]\n",
    "            i2 += 1\n",
    "        i += 1\n",
    "    while i1<n1:\n",
    "    \tL12[i] = L1[i1]\n",
    "    \ti1 += 1\n",
    "    \ti += 1\n",
    "    while i2<n2:\n",
    "    \tL12[i] = L2[i2]\n",
    "    \ti2 += 1\n",
    "    \ti += 1 \n",
    "    return L12\n"
   ]
  },
  {
   "cell_type": "markdown",
   "metadata": {},
   "source": [
    "## Tri Rapide"
   ]
  },
  {
   "cell_type": "code",
   "execution_count": 7,
   "metadata": {},
   "outputs": [],
   "source": [
    "def Tri_Rapide(L):\n",
    "    n = len(L)\n",
    "    pivot = L[n-1]\n",
    "    i = 0\n",
    "    j = 0\n",
    "    while j < n-1:\n",
    "        if L[j] <= pivot:\n",
    "            L[i],L[j] = L[j],L[i]\n",
    "            i += 1\n",
    "        j += 1\n",
    "    L[n-1],L[i] = L[i],L[n-1]"
   ]
  },
  {
   "cell_type": "markdown",
   "metadata": {},
   "source": [
    "## Affichage des tableaux triées"
   ]
  },
  {
   "cell_type": "code",
   "execution_count": 8,
   "metadata": {},
   "outputs": [
    {
     "data": {
      "text/plain": [
       "'for i in N: \\n    tab = creat_tab(i)\\n    print(\\'**trier par selection**\\')\\n    #selection\\n    tri_selection(tab)\\n    print (\"Le tableau trié de taille:\",i)\\n    for i in range(len(tab)):\\n        print (\"%d\" %tab[i])\\nfor i in N:          \\n     #insertion\\n    tab = creat_tab(i)\\n    print(\\'**trier par insertion**\\')\\n    tri_insertion(tab) \\n    print (\"Le tableau de taille:\",i)\\n    for k in range(len(tab)): \\n        print (\"% d\" % tab[k])\\nfor i in N:\\n    #bulle\\n    tri_bulle(tab)\\n    print(\\'**trier par à bulle**\\')\\n    print (\"Le tableau de taille:\")\\n    for i in range(len(tab)):\\n        print (\"%d\" %tab[i])\\n        \\nfor i in N:\\n    #fussion\\n    trifusion(tab)\\n    print(\\'**trier par par fussion**\\')\\n    print (\"Le tableau de taille:\")\\n    for i in range(len(tab)):\\n        print (\"%d\" %tab[i])    \\n        \\nfor i in N:\\n    #rapide\\n    Tri_Rapide(tab)\\n    print(\\'**trier Rapide**\\')\\n    print (\"Le tableau de taille:\")\\n    for i in range(len(tab)):\\n        print (\"%d\" %tab[i])\\n        '"
      ]
     },
     "execution_count": 8,
     "metadata": {},
     "output_type": "execute_result"
    }
   ],
   "source": [
    "'''for i in N: \n",
    "    tab = creat_tab(i)\n",
    "    print('**trier par selection**')\n",
    "    #selection\n",
    "    tri_selection(tab)\n",
    "    print (\"Le tableau trié de taille:\",i)\n",
    "    for i in range(len(tab)):\n",
    "        print (\"%d\" %tab[i])\n",
    "for i in N:          \n",
    "     #insertion\n",
    "    tab = creat_tab(i)\n",
    "    print('**trier par insertion**')\n",
    "    tri_insertion(tab) \n",
    "    print (\"Le tableau de taille:\",i)\n",
    "    for k in range(len(tab)): \n",
    "        print (\"% d\" % tab[k])\n",
    "for i in N:\n",
    "    #bulle\n",
    "    tri_bulle(tab)\n",
    "    print('**trier par à bulle**')\n",
    "    print (\"Le tableau de taille:\")\n",
    "    for i in range(len(tab)):\n",
    "        print (\"%d\" %tab[i])\n",
    "        \n",
    "for i in N:\n",
    "    #fussion\n",
    "    trifusion(tab)\n",
    "    print('**trier par par fussion**')\n",
    "    print (\"Le tableau de taille:\")\n",
    "    for i in range(len(tab)):\n",
    "        print (\"%d\" %tab[i])    \n",
    "        \n",
    "for i in N:\n",
    "    #rapide\n",
    "    Tri_Rapide(tab)\n",
    "    print('**trier Rapide**')\n",
    "    print (\"Le tableau de taille:\")\n",
    "    for i in range(len(tab)):\n",
    "        print (\"%d\" %tab[i])\n",
    "        '''"
   ]
  },
  {
   "cell_type": "markdown",
   "metadata": {},
   "source": [
    "## Main"
   ]
  },
  {
   "cell_type": "code",
   "execution_count": 9,
   "metadata": {},
   "outputs": [],
   "source": [
    "def t_TS(N) :\n",
    "    temps=[]\n",
    "    for i in N:\n",
    "        tab = creat_tab(i)\n",
    "        start_time = datetime.now()\n",
    "        tri_selection(tab)\n",
    "        end_time = datetime.now()\n",
    "        temps.append(format(end_time - start_time))\n",
    "    #return  temps\n",
    "    t=temps\n",
    "    print(\"les durée d'execution de tri par selection\")\n",
    "    print(t)\n",
    "    plt.plot(N,temps,'o-', color=\"black\", linewidth=2.5, linestyle='-')\n",
    "    plt.grid(True)\n",
    "    plt.ylabel('temps')\n",
    "    plt.xlabel('taille de tableau')\n",
    "    plt.title('la courbe de temps de Tri par selection')\n",
    "    plt.show"
   ]
  },
  {
   "cell_type": "code",
   "execution_count": 10,
   "metadata": {},
   "outputs": [],
   "source": [
    "def t_TI(N) :\n",
    "    temps=[]\n",
    "    for i in N:\n",
    "        tab = creat_tab(i)\n",
    "        start_time = datetime.now()\n",
    "        tri_insertion(tab)\n",
    "        end_time = datetime.now()\n",
    "        temps.append(format(end_time - start_time))\n",
    "    #return  temps\n",
    "    print(\"les durée d'execution de tri par insertion\")\n",
    "    print(temps)\n",
    "    plt.plot(N,temps,'o-', color=\"yellow\", linewidth=2.5, linestyle='-')\n",
    "    plt.grid(True)\n",
    "    plt.ylabel('temps')\n",
    "    plt.xlabel('taille de tableau')\n",
    "    plt.title('la courbe de temps de Tri par insertion')\n",
    "    plt.show"
   ]
  },
  {
   "cell_type": "code",
   "execution_count": 11,
   "metadata": {},
   "outputs": [],
   "source": [
    "def t_Tb(N) :\n",
    "    temps=[]\n",
    "    for i in N:\n",
    "        tab = creat_tab(i)\n",
    "        start_time = datetime.now()\n",
    "        tri_bulle(tab)\n",
    "        end_time = datetime.now()\n",
    "        temps.append(format(end_time - start_time))\n",
    "    #return  temps\n",
    "    print(\"les durée d'execution de tri à bulle\")\n",
    "    print(temps)\n",
    "    plt.plot(N,temps,'o-', color=\"green\", linewidth=2.5, linestyle='-')\n",
    "    plt.grid(True)\n",
    "    plt.ylabel('temps')\n",
    "    plt.xlabel('taille de tableau')\n",
    "    plt.title('la courbe de temps de Tri à bulle')\n",
    "    plt.show\n",
    "    "
   ]
  },
  {
   "cell_type": "code",
   "execution_count": 12,
   "metadata": {},
   "outputs": [],
   "source": [
    "def t_Tf(N) :\n",
    "    temps=[]\n",
    "    for i in N:\n",
    "        tab = creat_tab(i)\n",
    "        start_time = datetime.now()\n",
    "        trifusion(tab)\n",
    "        end_time = datetime.now()\n",
    "        temps.append(format(end_time - start_time))\n",
    "    #return  temps\n",
    "    print(\"les durée d'execution de tri par fusion\")\n",
    "    print(temps)\n",
    "    plt.plot(N,temps,'o-', color=\"red\", linewidth=2.5, linestyle='-')\n",
    "    plt.grid(True)\n",
    "    plt.ylabel('temps')\n",
    "    plt.xlabel('taille de tableau')\n",
    "    plt.title('la courbe de temps de Tri par fusion')\n",
    "    \n",
    "    plt.show"
   ]
  },
  {
   "cell_type": "code",
   "execution_count": 13,
   "metadata": {},
   "outputs": [],
   "source": [
    "def t_TR(N) :\n",
    "    temps_Tri_Rapide=[]\n",
    "    for i in N:\n",
    "        tab = creat_tab(i)\n",
    "        start_time = datetime.now()\n",
    "        Tri_Rapide(tab)\n",
    "        end_time = datetime.now()\n",
    "        temps_Tri_Rapide.append(format(end_time - start_time))\n",
    "    #return  temps_Tri_Rapide\n",
    "    print(\"les durée d'execution de tri rapide\")\n",
    "    print(temps_Tri_Rapide)\n",
    "    plt.plot(N,temps_Tri_Rapide, 'o-', color=\"blue\", linewidth=2.5, linestyle='-')\n",
    "    plt.ylabel('temps')\n",
    "    plt.xlabel('taille de tableau')\n",
    "    plt.title('la courbe de temps de Tri Rapide')\n",
    "    plt.grid(True)\n",
    "    plt.show"
   ]
  },
  {
   "cell_type": "code",
   "execution_count": 23,
   "metadata": {},
   "outputs": [],
   "source": [
    "import matplotlib.pyplot as plt\n",
    "from datetime import datetime\n",
    "N=[1000, 5000, 10000, 14000, 18000, 22000, 26000, 30000]\n",
    "\n",
    "\n",
    "\n",
    "\n"
   ]
  },
  {
   "cell_type": "code",
   "execution_count": 24,
   "metadata": {},
   "outputs": [
    {
     "name": "stdout",
     "output_type": "stream",
     "text": [
      "les durée d'execution de tri par selection\n",
      "['0:00:01.725099', '0:00:36.474086', '0:02:27.080413', '0:04:50.820634', '0:08:01.067515', '0:11:51.962722', '0:16:43.379390', '0:22:03.272687']\n"
     ]
    },
    {
     "data": {
      "image/png": "[encoded data removed]",
      "text/plain": [
       "<Figure size 432x288 with 1 Axes>"
      ]
     },
     "metadata": {
      "needs_background": "light"
     },
     "output_type": "display_data"
    }
   ],
   "source": [
    "t_TS(N)\n"
   ]
  },
  {
   "cell_type": "code",
   "execution_count": null,
   "metadata": {},
   "outputs": [
    {
     "name": "stdout",
     "output_type": "stream",
     "text": [
      "les durée d'execution de tri par insertion\n",
      "['0:00:01.547089', '0:00:31.410796', '0:02:05.457176', '0:03:57.500584', '0:06:32.154430', '0:09:57.904198', '0:14:43.250519', '0:22:38.993730']\n"
     ]
    }
   ],
   "source": [
    "t_TI(N)\n"
   ]
  },
  {
   "cell_type": "code",
   "execution_count": null,
   "metadata": {},
   "outputs": [],
   "source": [
    "t_Tb(N)\n"
   ]
  },
  {
   "cell_type": "code",
   "execution_count": null,
   "metadata": {},
   "outputs": [],
   "source": [
    "t_Tf(N)\n"
   ]
  },
  {
   "cell_type": "code",
   "execution_count": null,
   "metadata": {},
   "outputs": [],
   "source": [
    "t_TR(N)"
   ]
  },
  {
   "cell_type": "code",
   "execution_count": null,
   "metadata": {},
   "outputs": [],
   "source": []
  }
 ],
 "metadata": {
  "kernelspec": {
   "display_name": "Python 3",
   "language": "python",
   "name": "python3"
  },
  "language_info": {
   "codemirror_mode": {
    "name": "ipython",
    "version": 3
   },
   "file_extension": ".py",
   "mimetype": "text/x-python",
   "name": "python",
   "nbconvert_exporter": "python",
   "pygments_lexer": "ipython3",
   "version": "3.8.3"
  }
 },
 "nbformat": 4,
 "nbformat_minor": 4
}
